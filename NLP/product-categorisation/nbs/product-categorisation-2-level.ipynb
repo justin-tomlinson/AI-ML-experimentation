{
 "cells": [
  {
   "cell_type": "markdown",
   "metadata": {},
   "source": [
    "# Building & Training A Product Classifier Model\n",
    "This notebook trains a NLP model using the FastAI/Pytorch library. The model is trained on millions of free-text descriptions of products from over 3500 pharmacies across Australia. The model then predicts the first and second level categories based on the text description."
   ]
  },
  {
   "cell_type": "markdown",
   "metadata": {},
   "source": [
    "## Import the required libraries"
   ]
  },
  {
   "cell_type": "code",
   "execution_count": 1,
   "metadata": {},
   "outputs": [],
   "source": [
    "from fastai.callbacks import *\n",
    "from fastai.text import *\n",
    "\n",
    "from sklearn.model_selection import train_test_split"
   ]
  },
  {
   "cell_type": "code",
   "execution_count": 2,
   "metadata": {},
   "outputs": [],
   "source": [
    "path = './'"
   ]
  },
  {
   "cell_type": "markdown",
   "metadata": {},
   "source": [
    "## Pre-process Data File"
   ]
  },
  {
   "cell_type": "markdown",
   "metadata": {},
   "source": [
    "The dataset has been sourced from 3500+ stores stock files as well as the descriptions from master product tree itself. Some departments were excluded as they were either questionable or not in use anymore.\n",
    "\n",
    "I read in the file below."
   ]
  },
  {
   "cell_type": "code",
   "execution_count": 3,
   "metadata": {},
   "outputs": [],
   "source": [
    "text_df = pd.read_csv(path + 'data/product_categorization_20200303.csv', sep=',', low_memory=False)"
   ]
  },
  {
   "cell_type": "markdown",
   "metadata": {},
   "source": [
    "This dataset as been grouped by the text field before being exported. This means that the dataset only contains unique text labels. A sample of the dataset can be seen below."
   ]
  },
  {
   "cell_type": "code",
   "execution_count": 4,
   "metadata": {
    "scrolled": true
   },
   "outputs": [
    {
     "data": {
      "text/html": [
       "<div>\n",
       "<style scoped>\n",
       "    .dataframe tbody tr th:only-of-type {\n",
       "        vertical-align: middle;\n",
       "    }\n",
       "\n",
       "    .dataframe tbody tr th {\n",
       "        vertical-align: top;\n",
       "    }\n",
       "\n",
       "    .dataframe thead th {\n",
       "        text-align: right;\n",
       "    }\n",
       "</style>\n",
       "<table border=\"1\" class=\"dataframe\">\n",
       "  <thead>\n",
       "    <tr style=\"text-align: right;\">\n",
       "      <th></th>\n",
       "      <th>text</th>\n",
       "      <th>label</th>\n",
       "    </tr>\n",
       "  </thead>\n",
       "  <tbody>\n",
       "    <tr>\n",
       "      <th>0</th>\n",
       "      <td>ACCOLATE TAB 20MG 56</td>\n",
       "      <td>30-PRESCRIPTIONS&gt;3003-RESPIRATORY SYSTEM</td>\n",
       "    </tr>\n",
       "    <tr>\n",
       "      <th>1</th>\n",
       "      <td>STILDEM TAB 10MG 20</td>\n",
       "      <td>30-PRESCRIPTIONS&gt;3009-CENTRAL NERVOUS SYSTEM</td>\n",
       "    </tr>\n",
       "    <tr>\n",
       "      <th>2</th>\n",
       "      <td>CEFKOR SUSP 125MG/5ML</td>\n",
       "      <td>30-PRESCRIPTIONS&gt;3012-INFECTIONS &amp; INFESTATIONS</td>\n",
       "    </tr>\n",
       "    <tr>\n",
       "      <th>3</th>\n",
       "      <td>MAOSIG 300MG X 60 TABS</td>\n",
       "      <td>30-PRESCRIPTIONS&gt;3009-CENTRAL NERVOUS SYSTEM</td>\n",
       "    </tr>\n",
       "    <tr>\n",
       "      <th>4</th>\n",
       "      <td>CLINISTIX STRIPS 50</td>\n",
       "      <td>30-PRESCRIPTIONS&gt;3017-DIAGNOSTIC AGENTS</td>\n",
       "    </tr>\n",
       "  </tbody>\n",
       "</table>\n",
       "</div>"
      ],
      "text/plain": [
       "                     text                                            label\n",
       "0    ACCOLATE TAB 20MG 56         30-PRESCRIPTIONS>3003-RESPIRATORY SYSTEM\n",
       "1     STILDEM TAB 10MG 20     30-PRESCRIPTIONS>3009-CENTRAL NERVOUS SYSTEM\n",
       "2   CEFKOR SUSP 125MG/5ML  30-PRESCRIPTIONS>3012-INFECTIONS & INFESTATIONS\n",
       "3  MAOSIG 300MG X 60 TABS     30-PRESCRIPTIONS>3009-CENTRAL NERVOUS SYSTEM\n",
       "4     CLINISTIX STRIPS 50          30-PRESCRIPTIONS>3017-DIAGNOSTIC AGENTS"
      ]
     },
     "execution_count": 4,
     "metadata": {},
     "output_type": "execute_result"
    }
   ],
   "source": [
    "text_df.head()"
   ]
  },
  {
   "cell_type": "markdown",
   "metadata": {},
   "source": [
    "Double check there are no duplicates. Duplicates if present across the train and validation sets would mean data leakage and not give a clear idea of the model's ability to genralise."
   ]
  },
  {
   "cell_type": "code",
   "execution_count": 5,
   "metadata": {},
   "outputs": [],
   "source": [
    "text_df.drop_duplicates(subset=['text'], inplace=True)"
   ]
  },
  {
   "cell_type": "markdown",
   "metadata": {},
   "source": [
    "Check the length of the dataset."
   ]
  },
  {
   "cell_type": "code",
   "execution_count": 7,
   "metadata": {},
   "outputs": [
    {
     "data": {
      "text/plain": [
       "6324730"
      ]
     },
     "execution_count": 7,
     "metadata": {},
     "output_type": "execute_result"
    }
   ],
   "source": [
    "len(text_df)"
   ]
  },
  {
   "cell_type": "markdown",
   "metadata": {},
   "source": [
    "Over 6m uniquely spelled variants of product names. For reference, there is only 560k unique products in the master product trree itself. That means on average there is ~11 variants of spelling for each product.\n",
    "\n",
    "Given we have so many exmaples. Setting the test/validation set to 15/20% as per industry norm seemed a bit excessive, I will set it to something smaller.\n",
    "\n",
    "This is based on guidance provided by Andrew Ng's Deep learning course. We are going to use a smaller percentage (2.5%) as this still gives use many thousands of unique, unseen examples to validate our models performance."
   ]
  },
  {
   "cell_type": "code",
   "execution_count": 9,
   "metadata": {},
   "outputs": [
    {
     "data": {
      "text/plain": [
       "158118.25"
      ]
     },
     "execution_count": 9,
     "metadata": {},
     "output_type": "execute_result"
    }
   ],
   "source": [
    "len(text_df)*0.025"
   ]
  },
  {
   "cell_type": "markdown",
   "metadata": {},
   "source": [
    "Split the dataset into train/validation/test"
   ]
  },
  {
   "cell_type": "code",
   "execution_count": 10,
   "metadata": {},
   "outputs": [],
   "source": [
    "train, test = train_test_split(text_df, test_size=0.025, random_state=42, shuffle=True)\n",
    "train, valid = train_test_split(train, test_size=0.025, random_state=42, shuffle=True)"
   ]
  },
  {
   "cell_type": "markdown",
   "metadata": {},
   "source": [
    "Check the lengths of each set"
   ]
  },
  {
   "cell_type": "code",
   "execution_count": 12,
   "metadata": {},
   "outputs": [
    {
     "data": {
      "text/plain": [
       "6012445"
      ]
     },
     "execution_count": 12,
     "metadata": {},
     "output_type": "execute_result"
    }
   ],
   "source": [
    "len(train)"
   ]
  },
  {
   "cell_type": "code",
   "execution_count": 13,
   "metadata": {},
   "outputs": [
    {
     "data": {
      "text/plain": [
       "158119"
      ]
     },
     "execution_count": 13,
     "metadata": {},
     "output_type": "execute_result"
    }
   ],
   "source": [
    "len(test)"
   ]
  },
  {
   "cell_type": "code",
   "execution_count": 14,
   "metadata": {},
   "outputs": [
    {
     "data": {
      "text/plain": [
       "154166"
      ]
     },
     "execution_count": 14,
     "metadata": {},
     "output_type": "execute_result"
    }
   ],
   "source": [
    "len(valid)"
   ]
  },
  {
   "cell_type": "markdown",
   "metadata": {},
   "source": [
    "Drop any null values"
   ]
  },
  {
   "cell_type": "code",
   "execution_count": 15,
   "metadata": {},
   "outputs": [
    {
     "name": "stderr",
     "output_type": "stream",
     "text": [
      "/home/ec2-user/anaconda3/envs/pytorch_p36/lib/python3.6/site-packages/ipykernel/__main__.py:3: SettingWithCopyWarning: \n",
      "A value is trying to be set on a copy of a slice from a DataFrame\n",
      "\n",
      "See the caveats in the documentation: http://pandas.pydata.org/pandas-docs/stable/indexing.html#indexing-view-versus-copy\n",
      "  app.launch_new_instance()\n"
     ]
    }
   ],
   "source": [
    "train.dropna(inplace=True)\n",
    "valid.dropna(inplace=True)\n",
    "test.dropna(inplace=True)"
   ]
  },
  {
   "cell_type": "markdown",
   "metadata": {},
   "source": [
    "Write cleaned/formatted file out to disk for loading in later if needed."
   ]
  },
  {
   "cell_type": "code",
   "execution_count": 16,
   "metadata": {},
   "outputs": [],
   "source": [
    "train.to_csv(path+'data/train.csv', sep=',', header=True, index=False)\n",
    "valid.to_csv(path+'data/valid.csv', sep=',', header=True, index=False)\n",
    "test.to_csv(path+'data/test.csv', sep=',', header=True, index=False)"
   ]
  },
  {
   "cell_type": "markdown",
   "metadata": {},
   "source": [
    "## Create DataBunch Objects\n",
    "Here we will use the train/validation/test dataframes to create databunch objects."
   ]
  },
  {
   "cell_type": "code",
   "execution_count": 18,
   "metadata": {},
   "outputs": [
    {
     "data": {
      "text/html": [],
      "text/plain": [
       "<IPython.core.display.HTML object>"
      ]
     },
     "metadata": {},
     "output_type": "display_data"
    },
    {
     "data": {
      "text/html": [],
      "text/plain": [
       "<IPython.core.display.HTML object>"
      ]
     },
     "metadata": {},
     "output_type": "display_data"
    },
    {
     "data": {
      "text/html": [],
      "text/plain": [
       "<IPython.core.display.HTML object>"
      ]
     },
     "metadata": {},
     "output_type": "display_data"
    }
   ],
   "source": [
    "# Language model data\n",
    "data_lm = TextLMDataBunch.from_df(path,\n",
    "                                  train_df=train,\n",
    "                                  valid_df=valid,\n",
    "                                  test_df=test,\n",
    "                                  label_cols='label',\n",
    "                                  text_cols='text')"
   ]
  },
  {
   "cell_type": "code",
   "execution_count": 20,
   "metadata": {},
   "outputs": [
    {
     "data": {
      "text/html": [],
      "text/plain": [
       "<IPython.core.display.HTML object>"
      ]
     },
     "metadata": {},
     "output_type": "display_data"
    },
    {
     "data": {
      "text/html": [],
      "text/plain": [
       "<IPython.core.display.HTML object>"
      ]
     },
     "metadata": {},
     "output_type": "display_data"
    },
    {
     "data": {
      "text/html": [],
      "text/plain": [
       "<IPython.core.display.HTML object>"
      ]
     },
     "metadata": {},
     "output_type": "display_data"
    }
   ],
   "source": [
    "# Classifier model data\n",
    "data_clas = TextClasDataBunch.from_df(path,\n",
    "                                      train_df=train,\n",
    "                                      valid_df=valid,\n",
    "                                      test_df=test,\n",
    "                                      label_cols='label',\n",
    "                                      text_cols='text',\n",
    "                                      vocab=data_lm.train_ds.vocab, bs=128)"
   ]
  },
  {
   "cell_type": "markdown",
   "metadata": {},
   "source": [
    "The above step takes some time to complete. We can write the objects out to a file for re-importing later. This helps when you want to create a new model from the same data."
   ]
  },
  {
   "cell_type": "code",
   "execution_count": 21,
   "metadata": {},
   "outputs": [],
   "source": [
    "data_lm.save('data_lm_export.pkl')\n",
    "data_clas.save('data_clas_export.pkl')"
   ]
  },
  {
   "cell_type": "markdown",
   "metadata": {},
   "source": [
    "The databunch objects can be read back in using the below. The batch size can be changed when loading back in also."
   ]
  },
  {
   "cell_type": "code",
   "execution_count": null,
   "metadata": {
    "scrolled": false
   },
   "outputs": [],
   "source": [
    "data_lm = load_data(path, 'data_lm_export.pkl')\n",
    "data_clas = load_data(path, 'data_clas_export.pkl', bs=128)"
   ]
  },
  {
   "cell_type": "markdown",
   "metadata": {},
   "source": [
    "## Traing the language encoder\n",
    "We will use a pre-trained language model and fine-tune it to understand the Catman vocabulary. The below call will download the pre-trained model from FastAI if it hasnt been used before.\n",
    "\n",
    "***Note:*** *I used multi precision model training for speed. This is enabled by the .to_fp16() call at the end. This is only available for newer versions of Nvidia GPU's. This has been trained on a V100 GPU.*"
   ]
  },
  {
   "cell_type": "code",
   "execution_count": 22,
   "metadata": {},
   "outputs": [],
   "source": [
    "learn = language_model_learner(data_lm, arch=AWD_LSTM, drop_mult=0.5).to_fp16()"
   ]
  },
  {
   "cell_type": "markdown",
   "metadata": {},
   "source": [
    "Find the best learning rate"
   ]
  },
  {
   "cell_type": "code",
   "execution_count": 23,
   "metadata": {},
   "outputs": [
    {
     "data": {
      "text/html": [],
      "text/plain": [
       "<IPython.core.display.HTML object>"
      ]
     },
     "metadata": {},
     "output_type": "display_data"
    },
    {
     "name": "stdout",
     "output_type": "stream",
     "text": [
      "LR Finder is complete, type {learner_name}.recorder.plot() to see the graph.\n"
     ]
    }
   ],
   "source": [
    "learn.lr_find()"
   ]
  },
  {
   "cell_type": "code",
   "execution_count": 24,
   "metadata": {},
   "outputs": [
    {
     "name": "stdout",
     "output_type": "stream",
     "text": [
      "Min numerical gradient: 1.32E-02\n",
      "Min loss divided by 10: 9.12E-02\n"
     ]
    },
    {
     "data": {
      "image/png": "[encoded data removed]",
      "text/plain": [
       "<Figure size 432x288 with 1 Axes>"
      ]
     },
     "metadata": {},
     "output_type": "display_data"
    }
   ],
   "source": [
    "learn.recorder.plot(suggestion=True)"
   ]
  },
  {
   "cell_type": "code",
   "execution_count": 26,
   "metadata": {},
   "outputs": [],
   "source": [
    "min_grad_lr = 1.32E-02"
   ]
  },
  {
   "cell_type": "markdown",
   "metadata": {},
   "source": [
    "Train the last layers of the language model for a little bit."
   ]
  },
  {
   "cell_type": "code",
   "execution_count": null,
   "metadata": {
    "scrolled": false
   },
   "outputs": [
    {
     "data": {
      "text/html": [
       "<table border=\"1\" class=\"dataframe\">\n",
       "  <thead>\n",
       "    <tr style=\"text-align: left;\">\n",
       "      <th>epoch</th>\n",
       "      <th>train_loss</th>\n",
       "      <th>valid_loss</th>\n",
       "      <th>accuracy</th>\n",
       "      <th>time</th>\n",
       "    </tr>\n",
       "  </thead>\n",
       "  <tbody>\n",
       "    <tr>\n",
       "      <td>0</td>\n",
       "      <td>3.220717</td>\n",
       "      <td>2.979194</td>\n",
       "      <td>0.523773</td>\n",
       "      <td>16:10</td>\n",
       "    </tr>\n",
       "    <tr>\n",
       "      <td>1</td>\n",
       "      <td>3.067882</td>\n",
       "      <td>2.835282</td>\n",
       "      <td>0.535246</td>\n",
       "      <td>16:11</td>\n",
       "    </tr>\n",
       "    <tr>\n",
       "      <td>2</td>\n",
       "      <td>2.972154</td>\n",
       "      <td>2.732000</td>\n",
       "      <td>0.545610</td>\n",
       "      <td>16:11</td>\n",
       "    </tr>\n",
       "  </tbody>\n",
       "</table>"
      ],
      "text/plain": [
       "<IPython.core.display.HTML object>"
      ]
     },
     "metadata": {},
     "output_type": "display_data"
    },
    {
     "name": "stdout",
     "output_type": "stream",
     "text": [
      "Better model found at epoch 0 with valid_loss value: 2.979193925857544.\n",
      "Better model found at epoch 1 with valid_loss value: 2.835282325744629.\n",
      "Better model found at epoch 2 with valid_loss value: 2.7320001125335693.\n"
     ]
    }
   ],
   "source": [
    "callbacks=[SaveModelCallback(learn, every='improvement', name='best_lm_1'),\n",
    "           CSVLogger(learn=learn, filename='best_lm_1_history')]\n",
    "\n",
    "learn.fit_one_cycle(3, min_grad_lr, callbacks=callbacks)"
   ]
  },
  {
   "cell_type": "markdown",
   "metadata": {},
   "source": [
    "Unfreeze the earlier pre-trained layers and train a little bit more. Note the use of a smaller learning rate as we dont want to destroy the weights in the pretrained model."
   ]
  },
  {
   "cell_type": "code",
   "execution_count": 32,
   "metadata": {},
   "outputs": [
    {
     "data": {
      "text/html": [
       "<table border=\"1\" class=\"dataframe\">\n",
       "  <thead>\n",
       "    <tr style=\"text-align: left;\">\n",
       "      <th>epoch</th>\n",
       "      <th>train_loss</th>\n",
       "      <th>valid_loss</th>\n",
       "      <th>accuracy</th>\n",
       "      <th>time</th>\n",
       "    </tr>\n",
       "  </thead>\n",
       "  <tbody>\n",
       "    <tr>\n",
       "      <td>0</td>\n",
       "      <td>2.566533</td>\n",
       "      <td>2.477286</td>\n",
       "      <td>0.573012</td>\n",
       "      <td>18:19</td>\n",
       "    </tr>\n",
       "    <tr>\n",
       "      <td>1</td>\n",
       "      <td>2.399263</td>\n",
       "      <td>2.291761</td>\n",
       "      <td>0.592465</td>\n",
       "      <td>18:24</td>\n",
       "    </tr>\n",
       "    <tr>\n",
       "      <td>2</td>\n",
       "      <td>2.293876</td>\n",
       "      <td>2.205079</td>\n",
       "      <td>0.603713</td>\n",
       "      <td>18:23</td>\n",
       "    </tr>\n",
       "  </tbody>\n",
       "</table>"
      ],
      "text/plain": [
       "<IPython.core.display.HTML object>"
      ]
     },
     "metadata": {},
     "output_type": "display_data"
    },
    {
     "name": "stdout",
     "output_type": "stream",
     "text": [
      "Better model found at epoch 0 with valid_loss value: 2.477285861968994.\n",
      "Better model found at epoch 1 with valid_loss value: 2.2917611598968506.\n",
      "Better model found at epoch 2 with valid_loss value: 2.205078601837158.\n"
     ]
    }
   ],
   "source": [
    "callbacks=[SaveModelCallback(learn, every='improvement', name='best_lm_2'),\n",
    "           CSVLogger(learn=learn, filename='best_lm_2_history')]\n",
    "learn.unfreeze()\n",
    "learn.fit_one_cycle(3, slice(min_grad_lr/40., min_grad_lr/2.), callbacks=callbacks)"
   ]
  },
  {
   "cell_type": "markdown",
   "metadata": {},
   "source": [
    "Test the language models ability to predict the next words."
   ]
  },
  {
   "cell_type": "code",
   "execution_count": 33,
   "metadata": {},
   "outputs": [
    {
     "data": {
      "text/plain": [
       "'Banana Boat Sunscn Clr Spray'"
      ]
     },
     "execution_count": 33,
     "metadata": {},
     "output_type": "execute_result"
    }
   ],
   "source": [
    "learn.predict(\"Banana Boat\", n_words=6)"
   ]
  },
  {
   "cell_type": "markdown",
   "metadata": {},
   "source": [
    "Save the encoder for use in the language classifier"
   ]
  },
  {
   "cell_type": "code",
   "execution_count": 34,
   "metadata": {},
   "outputs": [],
   "source": [
    "learn.save_encoder('ft_enc')"
   ]
  },
  {
   "cell_type": "markdown",
   "metadata": {},
   "source": [
    "## Train the Text Classifier\n",
    "create the learner. again its using a pretrained model architecture. Here we also load in the encoder previously trained."
   ]
  },
  {
   "cell_type": "code",
   "execution_count": 5,
   "metadata": {},
   "outputs": [
    {
     "data": {
      "text/plain": [
       "RNNLearner(data=TextClasDataBunch;\n",
       "\n",
       "Train: LabelList (6012444 items)\n",
       "x: TextList\n",
       "xxbos xxup trinket xxup box xxup grey xxup cement xxup with xxup gold xxup lid,xxbos xxup barnes xxup apple xxup cider xxup xxunk,xxbos xxup lynx xxup deod xxup marine 100 g,xxbos xxup eng xxup tea xxup shop xxup pack xxup your xxup wellnes,xxbos xxup hped xxup indiana xxup rosso 6\n",
       "y: CategoryList\n",
       "45-GIFTWARE>4501-GIFTWARE,4-FUNCTIONAL FOODS>403-HEALTH FOODS,17-MENS>1707-DEODORANTS,4-FUNCTIONAL FOODS>406-TEA,14-FOOTWEAR>1401-FOOTWEAR\n",
       "Path: .;\n",
       "\n",
       "Valid: LabelList (154166 items)\n",
       "x: TextList\n",
       "xxbos xxup ch xxup le xxup vernis 713 xxup pure xxup blk 1 xxup sh,xxbos xxup ws xxup adelaide xxup earrings xxup slvr,xxbos n / w xxup vita - xxup gummies xxup vit xxup d3 60s,xxbos xxup s26 xxup gold xxup delicateeze,xxbos xxup homy xxup ped xxup echo xxup cranberry 9.5\n",
       "y: CategoryList\n",
       "3-COSMETICS/COLOUR>301-PRESTIGE COSMETICS,45-GIFTWARE>4501-GIFTWARE,7-NATURAL MEDICINE>703-MUSCULAR SUPPORT,2-BABY>201-INFANT FORMULA,14-FOOTWEAR>1401-FOOTWEAR\n",
       "Path: .;\n",
       "\n",
       "Test: LabelList (158119 items)\n",
       "x: TextList\n",
       "xxbos xxmaj lrl endless kissable l / s 315 ruby ruby,xxbos s / g xxup rosso / xxup smoke 29.95,xxbos xxup homy xxup ped xxup w16 xxup melinda xxup black xxup tan 7,xxbos xxup ws xxup abstract xxup lg xxup xxunk xxup pink,xxbos xxup ws xxup lge xxup elastics xxup pk5\n",
       "y: EmptyLabelList\n",
       ",,,,\n",
       "Path: ., model=SequentialRNN(\n",
       "  (0): MultiBatchEncoder(\n",
       "    (module): AWD_LSTM(\n",
       "      (encoder): Embedding(60000, 400, padding_idx=1)\n",
       "      (encoder_dp): EmbeddingDropout(\n",
       "        (emb): Embedding(60000, 400, padding_idx=1)\n",
       "      )\n",
       "      (rnns): ModuleList(\n",
       "        (0): WeightDropout(\n",
       "          (module): LSTM(400, 1152, batch_first=True)\n",
       "        )\n",
       "        (1): WeightDropout(\n",
       "          (module): LSTM(1152, 1152, batch_first=True)\n",
       "        )\n",
       "        (2): WeightDropout(\n",
       "          (module): LSTM(1152, 400, batch_first=True)\n",
       "        )\n",
       "      )\n",
       "      (input_dp): RNNDropout()\n",
       "      (hidden_dps): ModuleList(\n",
       "        (0): RNNDropout()\n",
       "        (1): RNNDropout()\n",
       "        (2): RNNDropout()\n",
       "      )\n",
       "    )\n",
       "  )\n",
       "  (1): PoolingLinearClassifier(\n",
       "    (layers): Sequential(\n",
       "      (0): BatchNorm1d(1200, eps=1e-05, momentum=0.1, affine=True, track_running_stats=True)\n",
       "      (1): Dropout(p=0.2, inplace=False)\n",
       "      (2): Linear(in_features=1200, out_features=50, bias=True)\n",
       "      (3): ReLU(inplace=True)\n",
       "      (4): BatchNorm1d(50, eps=1e-05, momentum=0.1, affine=True, track_running_stats=True)\n",
       "      (5): Dropout(p=0.1, inplace=False)\n",
       "      (6): Linear(in_features=50, out_features=235, bias=True)\n",
       "    )\n",
       "  )\n",
       "), opt_func=functools.partial(<class 'torch.optim.adam.Adam'>, betas=(0.9, 0.99)), loss_func=FlattenedLoss of CrossEntropyLoss(), metrics=[<function accuracy at 0x7fa21a847620>], true_wd=True, bn_wd=True, wd=0.01, train_bn=True, path=PosixPath('.'), model_dir='models', callback_fns=[functools.partial(<class 'fastai.basic_train.Recorder'>, add_time=True, silent=False)], callbacks=[RNNTrainer\n",
       "learn: RNNLearner(data=TextClasDataBunch;\n",
       "\n",
       "Train: LabelList (6012444 items)\n",
       "x: TextList\n",
       "xxbos xxup trinket xxup box xxup grey xxup cement xxup with xxup gold xxup lid,xxbos xxup barnes xxup apple xxup cider xxup xxunk,xxbos xxup lynx xxup deod xxup marine 100 g,xxbos xxup eng xxup tea xxup shop xxup pack xxup your xxup wellnes,xxbos xxup hped xxup indiana xxup rosso 6\n",
       "y: CategoryList\n",
       "45-GIFTWARE>4501-GIFTWARE,4-FUNCTIONAL FOODS>403-HEALTH FOODS,17-MENS>1707-DEODORANTS,4-FUNCTIONAL FOODS>406-TEA,14-FOOTWEAR>1401-FOOTWEAR\n",
       "Path: .;\n",
       "\n",
       "Valid: LabelList (154166 items)\n",
       "x: TextList\n",
       "xxbos xxup ch xxup le xxup vernis 713 xxup pure xxup blk 1 xxup sh,xxbos xxup ws xxup adelaide xxup earrings xxup slvr,xxbos n / w xxup vita - xxup gummies xxup vit xxup d3 60s,xxbos xxup s26 xxup gold xxup delicateeze,xxbos xxup homy xxup ped xxup echo xxup cranberry 9.5\n",
       "y: CategoryList\n",
       "3-COSMETICS/COLOUR>301-PRESTIGE COSMETICS,45-GIFTWARE>4501-GIFTWARE,7-NATURAL MEDICINE>703-MUSCULAR SUPPORT,2-BABY>201-INFANT FORMULA,14-FOOTWEAR>1401-FOOTWEAR\n",
       "Path: .;\n",
       "\n",
       "Test: LabelList (158119 items)\n",
       "x: TextList\n",
       "xxbos xxmaj lrl endless kissable l / s 315 ruby ruby,xxbos s / g xxup rosso / xxup smoke 29.95,xxbos xxup homy xxup ped xxup w16 xxup melinda xxup black xxup tan 7,xxbos xxup ws xxup abstract xxup lg xxup xxunk xxup pink,xxbos xxup ws xxup lge xxup elastics xxup pk5\n",
       "y: EmptyLabelList\n",
       ",,,,\n",
       "Path: ., model=SequentialRNN(\n",
       "  (0): MultiBatchEncoder(\n",
       "    (module): AWD_LSTM(\n",
       "      (encoder): Embedding(60000, 400, padding_idx=1)\n",
       "      (encoder_dp): EmbeddingDropout(\n",
       "        (emb): Embedding(60000, 400, padding_idx=1)\n",
       "      )\n",
       "      (rnns): ModuleList(\n",
       "        (0): WeightDropout(\n",
       "          (module): LSTM(400, 1152, batch_first=True)\n",
       "        )\n",
       "        (1): WeightDropout(\n",
       "          (module): LSTM(1152, 1152, batch_first=True)\n",
       "        )\n",
       "        (2): WeightDropout(\n",
       "          (module): LSTM(1152, 400, batch_first=True)\n",
       "        )\n",
       "      )\n",
       "      (input_dp): RNNDropout()\n",
       "      (hidden_dps): ModuleList(\n",
       "        (0): RNNDropout()\n",
       "        (1): RNNDropout()\n",
       "        (2): RNNDropout()\n",
       "      )\n",
       "    )\n",
       "  )\n",
       "  (1): PoolingLinearClassifier(\n",
       "    (layers): Sequential(\n",
       "      (0): BatchNorm1d(1200, eps=1e-05, momentum=0.1, affine=True, track_running_stats=True)\n",
       "      (1): Dropout(p=0.2, inplace=False)\n",
       "      (2): Linear(in_features=1200, out_features=50, bias=True)\n",
       "      (3): ReLU(inplace=True)\n",
       "      (4): BatchNorm1d(50, eps=1e-05, momentum=0.1, affine=True, track_running_stats=True)\n",
       "      (5): Dropout(p=0.1, inplace=False)\n",
       "      (6): Linear(in_features=50, out_features=235, bias=True)\n",
       "    )\n",
       "  )\n",
       "), opt_func=functools.partial(<class 'torch.optim.adam.Adam'>, betas=(0.9, 0.99)), loss_func=FlattenedLoss of CrossEntropyLoss(), metrics=[<function accuracy at 0x7fa21a847620>], true_wd=True, bn_wd=True, wd=0.01, train_bn=True, path=PosixPath('.'), model_dir='models', callback_fns=[functools.partial(<class 'fastai.basic_train.Recorder'>, add_time=True, silent=False)], callbacks=[...], layer_groups=[Sequential(\n",
       "  (0): Embedding(60000, 400, padding_idx=1)\n",
       "  (1): EmbeddingDropout(\n",
       "    (emb): Embedding(60000, 400, padding_idx=1)\n",
       "  )\n",
       "), Sequential(\n",
       "  (0): WeightDropout(\n",
       "    (module): LSTM(400, 1152, batch_first=True)\n",
       "  )\n",
       "  (1): RNNDropout()\n",
       "), Sequential(\n",
       "  (0): WeightDropout(\n",
       "    (module): LSTM(1152, 1152, batch_first=True)\n",
       "  )\n",
       "  (1): RNNDropout()\n",
       "), Sequential(\n",
       "  (0): WeightDropout(\n",
       "    (module): LSTM(1152, 400, batch_first=True)\n",
       "  )\n",
       "  (1): RNNDropout()\n",
       "), Sequential(\n",
       "  (0): PoolingLinearClassifier(\n",
       "    (layers): Sequential(\n",
       "      (0): BatchNorm1d(1200, eps=1e-05, momentum=0.1, affine=True, track_running_stats=True)\n",
       "      (1): Dropout(p=0.2, inplace=False)\n",
       "      (2): Linear(in_features=1200, out_features=50, bias=True)\n",
       "      (3): ReLU(inplace=True)\n",
       "      (4): BatchNorm1d(50, eps=1e-05, momentum=0.1, affine=True, track_running_stats=True)\n",
       "      (5): Dropout(p=0.1, inplace=False)\n",
       "      (6): Linear(in_features=50, out_features=235, bias=True)\n",
       "    )\n",
       "  )\n",
       ")], add_time=True, silent=False)\n",
       "alpha: 2.0\n",
       "beta: 1.0, MixedPrecision\n",
       "learn: RNNLearner(data=TextClasDataBunch;\n",
       "\n",
       "Train: LabelList (6012444 items)\n",
       "x: TextList\n",
       "xxbos xxup trinket xxup box xxup grey xxup cement xxup with xxup gold xxup lid,xxbos xxup barnes xxup apple xxup cider xxup xxunk,xxbos xxup lynx xxup deod xxup marine 100 g,xxbos xxup eng xxup tea xxup shop xxup pack xxup your xxup wellnes,xxbos xxup hped xxup indiana xxup rosso 6\n",
       "y: CategoryList\n",
       "45-GIFTWARE>4501-GIFTWARE,4-FUNCTIONAL FOODS>403-HEALTH FOODS,17-MENS>1707-DEODORANTS,4-FUNCTIONAL FOODS>406-TEA,14-FOOTWEAR>1401-FOOTWEAR\n",
       "Path: .;\n",
       "\n",
       "Valid: LabelList (154166 items)\n",
       "x: TextList\n",
       "xxbos xxup ch xxup le xxup vernis 713 xxup pure xxup blk 1 xxup sh,xxbos xxup ws xxup adelaide xxup earrings xxup slvr,xxbos n / w xxup vita - xxup gummies xxup vit xxup d3 60s,xxbos xxup s26 xxup gold xxup delicateeze,xxbos xxup homy xxup ped xxup echo xxup cranberry 9.5\n",
       "y: CategoryList\n",
       "3-COSMETICS/COLOUR>301-PRESTIGE COSMETICS,45-GIFTWARE>4501-GIFTWARE,7-NATURAL MEDICINE>703-MUSCULAR SUPPORT,2-BABY>201-INFANT FORMULA,14-FOOTWEAR>1401-FOOTWEAR\n",
       "Path: .;\n",
       "\n",
       "Test: LabelList (158119 items)\n",
       "x: TextList\n",
       "xxbos xxmaj lrl endless kissable l / s 315 ruby ruby,xxbos s / g xxup rosso / xxup smoke 29.95,xxbos xxup homy xxup ped xxup w16 xxup melinda xxup black xxup tan 7,xxbos xxup ws xxup abstract xxup lg xxup xxunk xxup pink,xxbos xxup ws xxup lge xxup elastics xxup pk5\n",
       "y: EmptyLabelList\n",
       ",,,,\n",
       "Path: ., model=SequentialRNN(\n",
       "  (0): MultiBatchEncoder(\n",
       "    (module): AWD_LSTM(\n",
       "      (encoder): Embedding(60000, 400, padding_idx=1)\n",
       "      (encoder_dp): EmbeddingDropout(\n",
       "        (emb): Embedding(60000, 400, padding_idx=1)\n",
       "      )\n",
       "      (rnns): ModuleList(\n",
       "        (0): WeightDropout(\n",
       "          (module): LSTM(400, 1152, batch_first=True)\n",
       "        )\n",
       "        (1): WeightDropout(\n",
       "          (module): LSTM(1152, 1152, batch_first=True)\n",
       "        )\n",
       "        (2): WeightDropout(\n",
       "          (module): LSTM(1152, 400, batch_first=True)\n",
       "        )\n",
       "      )\n",
       "      (input_dp): RNNDropout()\n",
       "      (hidden_dps): ModuleList(\n",
       "        (0): RNNDropout()\n",
       "        (1): RNNDropout()\n",
       "        (2): RNNDropout()\n",
       "      )\n",
       "    )\n",
       "  )\n",
       "  (1): PoolingLinearClassifier(\n",
       "    (layers): Sequential(\n",
       "      (0): BatchNorm1d(1200, eps=1e-05, momentum=0.1, affine=True, track_running_stats=True)\n",
       "      (1): Dropout(p=0.2, inplace=False)\n",
       "      (2): Linear(in_features=1200, out_features=50, bias=True)\n",
       "      (3): ReLU(inplace=True)\n",
       "      (4): BatchNorm1d(50, eps=1e-05, momentum=0.1, affine=True, track_running_stats=True)\n",
       "      (5): Dropout(p=0.1, inplace=False)\n",
       "      (6): Linear(in_features=50, out_features=235, bias=True)\n",
       "    )\n",
       "  )\n",
       "), opt_func=functools.partial(<class 'torch.optim.adam.Adam'>, betas=(0.9, 0.99)), loss_func=FlattenedLoss of CrossEntropyLoss(), metrics=[<function accuracy at 0x7fa21a847620>], true_wd=True, bn_wd=True, wd=0.01, train_bn=True, path=PosixPath('.'), model_dir='models', callback_fns=[functools.partial(<class 'fastai.basic_train.Recorder'>, add_time=True, silent=False)], callbacks=[...], layer_groups=[Sequential(\n",
       "  (0): Embedding(60000, 400, padding_idx=1)\n",
       "  (1): EmbeddingDropout(\n",
       "    (emb): Embedding(60000, 400, padding_idx=1)\n",
       "  )\n",
       "), Sequential(\n",
       "  (0): WeightDropout(\n",
       "    (module): LSTM(400, 1152, batch_first=True)\n",
       "  )\n",
       "  (1): RNNDropout()\n",
       "), Sequential(\n",
       "  (0): WeightDropout(\n",
       "    (module): LSTM(1152, 1152, batch_first=True)\n",
       "  )\n",
       "  (1): RNNDropout()\n",
       "), Sequential(\n",
       "  (0): WeightDropout(\n",
       "    (module): LSTM(1152, 400, batch_first=True)\n",
       "  )\n",
       "  (1): RNNDropout()\n",
       "), Sequential(\n",
       "  (0): PoolingLinearClassifier(\n",
       "    (layers): Sequential(\n",
       "      (0): BatchNorm1d(1200, eps=1e-05, momentum=0.1, affine=True, track_running_stats=True)\n",
       "      (1): Dropout(p=0.2, inplace=False)\n",
       "      (2): Linear(in_features=1200, out_features=50, bias=True)\n",
       "      (3): ReLU(inplace=True)\n",
       "      (4): BatchNorm1d(50, eps=1e-05, momentum=0.1, affine=True, track_running_stats=True)\n",
       "      (5): Dropout(p=0.1, inplace=False)\n",
       "      (6): Linear(in_features=50, out_features=235, bias=True)\n",
       "    )\n",
       "  )\n",
       ")], add_time=True, silent=False)\n",
       "loss_scale: 65536\n",
       "max_noskip: 1000\n",
       "dynamic: True\n",
       "clip: None\n",
       "flat_master: False\n",
       "max_scale: 16777216\n",
       "loss_fp32: True], layer_groups=[Sequential(\n",
       "  (0): Embedding(60000, 400, padding_idx=1)\n",
       "  (1): EmbeddingDropout(\n",
       "    (emb): Embedding(60000, 400, padding_idx=1)\n",
       "  )\n",
       "), Sequential(\n",
       "  (0): WeightDropout(\n",
       "    (module): LSTM(400, 1152, batch_first=True)\n",
       "  )\n",
       "  (1): RNNDropout()\n",
       "), Sequential(\n",
       "  (0): WeightDropout(\n",
       "    (module): LSTM(1152, 1152, batch_first=True)\n",
       "  )\n",
       "  (1): RNNDropout()\n",
       "), Sequential(\n",
       "  (0): WeightDropout(\n",
       "    (module): LSTM(1152, 400, batch_first=True)\n",
       "  )\n",
       "  (1): RNNDropout()\n",
       "), Sequential(\n",
       "  (0): PoolingLinearClassifier(\n",
       "    (layers): Sequential(\n",
       "      (0): BatchNorm1d(1200, eps=1e-05, momentum=0.1, affine=True, track_running_stats=True)\n",
       "      (1): Dropout(p=0.2, inplace=False)\n",
       "      (2): Linear(in_features=1200, out_features=50, bias=True)\n",
       "      (3): ReLU(inplace=True)\n",
       "      (4): BatchNorm1d(50, eps=1e-05, momentum=0.1, affine=True, track_running_stats=True)\n",
       "      (5): Dropout(p=0.1, inplace=False)\n",
       "      (6): Linear(in_features=50, out_features=235, bias=True)\n",
       "    )\n",
       "  )\n",
       ")], add_time=True, silent=False)"
      ]
     },
     "execution_count": 5,
     "metadata": {},
     "output_type": "execute_result"
    }
   ],
   "source": [
    "learn = text_classifier_learner(data_clas, AWD_LSTM, drop_mult=0.5).to_fp16()\n",
    "learn.load_encoder('ft_enc')"
   ]
  },
  {
   "cell_type": "markdown",
   "metadata": {},
   "source": [
    "Again find the best learning rate"
   ]
  },
  {
   "cell_type": "code",
   "execution_count": 6,
   "metadata": {
    "scrolled": true
   },
   "outputs": [
    {
     "data": {
      "text/html": [],
      "text/plain": [
       "<IPython.core.display.HTML object>"
      ]
     },
     "metadata": {},
     "output_type": "display_data"
    },
    {
     "name": "stdout",
     "output_type": "stream",
     "text": [
      "LR Finder is complete, type {learner_name}.recorder.plot() to see the graph.\n"
     ]
    }
   ],
   "source": [
    "learn.lr_find()"
   ]
  },
  {
   "cell_type": "code",
   "execution_count": 7,
   "metadata": {},
   "outputs": [
    {
     "name": "stdout",
     "output_type": "stream",
     "text": [
      "Min numerical gradient: 2.75E-02\n",
      "Min loss divided by 10: 5.25E-02\n"
     ]
    },
    {
     "data": {
      "image/png": "[encoded data removed]",
      "text/plain": [
       "<Figure size 432x288 with 1 Axes>"
      ]
     },
     "metadata": {},
     "output_type": "display_data"
    }
   ],
   "source": [
    "learn.recorder.plot(suggestion=True)"
   ]
  },
  {
   "cell_type": "code",
   "execution_count": 8,
   "metadata": {},
   "outputs": [],
   "source": [
    "min_grad_lr = 2.75E-02"
   ]
  },
  {
   "cell_type": "markdown",
   "metadata": {},
   "source": [
    "Train the last few layers to classify"
   ]
  },
  {
   "cell_type": "code",
   "execution_count": 9,
   "metadata": {
    "scrolled": true
   },
   "outputs": [
    {
     "data": {
      "text/html": [
       "<table border=\"1\" class=\"dataframe\">\n",
       "  <thead>\n",
       "    <tr style=\"text-align: left;\">\n",
       "      <th>epoch</th>\n",
       "      <th>train_loss</th>\n",
       "      <th>valid_loss</th>\n",
       "      <th>accuracy</th>\n",
       "      <th>time</th>\n",
       "    </tr>\n",
       "  </thead>\n",
       "  <tbody>\n",
       "    <tr>\n",
       "      <td>0</td>\n",
       "      <td>1.469449</td>\n",
       "      <td>1.316688</td>\n",
       "      <td>0.684418</td>\n",
       "      <td>12:34</td>\n",
       "    </tr>\n",
       "    <tr>\n",
       "      <td>1</td>\n",
       "      <td>1.550105</td>\n",
       "      <td>1.497035</td>\n",
       "      <td>0.650461</td>\n",
       "      <td>12:29</td>\n",
       "    </tr>\n",
       "    <tr>\n",
       "      <td>2</td>\n",
       "      <td>1.438705</td>\n",
       "      <td>1.216079</td>\n",
       "      <td>0.701251</td>\n",
       "      <td>12:36</td>\n",
       "    </tr>\n",
       "    <tr>\n",
       "      <td>3</td>\n",
       "      <td>1.240721</td>\n",
       "      <td>1.020598</td>\n",
       "      <td>0.743932</td>\n",
       "      <td>12:31</td>\n",
       "    </tr>\n",
       "    <tr>\n",
       "      <td>4</td>\n",
       "      <td>1.067234</td>\n",
       "      <td>0.858037</td>\n",
       "      <td>0.780652</td>\n",
       "      <td>12:28</td>\n",
       "    </tr>\n",
       "  </tbody>\n",
       "</table>"
      ],
      "text/plain": [
       "<IPython.core.display.HTML object>"
      ]
     },
     "metadata": {},
     "output_type": "display_data"
    },
    {
     "name": "stdout",
     "output_type": "stream",
     "text": [
      "Better model found at epoch 0 with valid_loss value: 1.3166879415512085.\n",
      "Better model found at epoch 2 with valid_loss value: 1.2160794734954834.\n",
      "Better model found at epoch 3 with valid_loss value: 1.0205976963043213.\n",
      "Better model found at epoch 4 with valid_loss value: 0.8580366373062134.\n"
     ]
    }
   ],
   "source": [
    "callbacks=[SaveModelCallback(learn, every='improvement', name='best_cm'),\n",
    "           CSVLogger(learn=learn, filename='best_cm_1_history')]\n",
    "\n",
    "learn.fit_one_cycle(5, min_grad_lr, wd=0.25, callbacks=callbacks)"
   ]
  },
  {
   "cell_type": "markdown",
   "metadata": {},
   "source": [
    "Unfreeze some more layers and train a bit more."
   ]
  },
  {
   "cell_type": "code",
   "execution_count": 10,
   "metadata": {
    "scrolled": true
   },
   "outputs": [
    {
     "data": {
      "text/html": [
       "<table border=\"1\" class=\"dataframe\">\n",
       "  <thead>\n",
       "    <tr style=\"text-align: left;\">\n",
       "      <th>epoch</th>\n",
       "      <th>train_loss</th>\n",
       "      <th>valid_loss</th>\n",
       "      <th>accuracy</th>\n",
       "      <th>time</th>\n",
       "    </tr>\n",
       "  </thead>\n",
       "  <tbody>\n",
       "    <tr>\n",
       "      <td>0</td>\n",
       "      <td>1.180214</td>\n",
       "      <td>1.014397</td>\n",
       "      <td>0.750723</td>\n",
       "      <td>14:55</td>\n",
       "    </tr>\n",
       "    <tr>\n",
       "      <td>1</td>\n",
       "      <td>1.246676</td>\n",
       "      <td>1.109925</td>\n",
       "      <td>0.735376</td>\n",
       "      <td>15:02</td>\n",
       "    </tr>\n",
       "    <tr>\n",
       "      <td>2</td>\n",
       "      <td>1.101609</td>\n",
       "      <td>0.955001</td>\n",
       "      <td>0.767374</td>\n",
       "      <td>15:00</td>\n",
       "    </tr>\n",
       "    <tr>\n",
       "      <td>3</td>\n",
       "      <td>0.963187</td>\n",
       "      <td>0.785881</td>\n",
       "      <td>0.801753</td>\n",
       "      <td>14:59</td>\n",
       "    </tr>\n",
       "    <tr>\n",
       "      <td>4</td>\n",
       "      <td>0.744348</td>\n",
       "      <td>0.604484</td>\n",
       "      <td>0.844596</td>\n",
       "      <td>15:02</td>\n",
       "    </tr>\n",
       "  </tbody>\n",
       "</table>"
      ],
      "text/plain": [
       "<IPython.core.display.HTML object>"
      ]
     },
     "metadata": {},
     "output_type": "display_data"
    },
    {
     "name": "stdout",
     "output_type": "stream",
     "text": [
      "Better model found at epoch 0 with valid_loss value: 1.014397144317627.\n",
      "Better model found at epoch 2 with valid_loss value: 0.9550012350082397.\n",
      "Better model found at epoch 3 with valid_loss value: 0.785880982875824.\n",
      "Better model found at epoch 4 with valid_loss value: 0.6044842600822449.\n"
     ]
    }
   ],
   "source": [
    "callbacks=[SaveModelCallback(learn, every='improvement', name='best_cm_2'),\n",
    "           CSVLogger(learn=learn, filename='best_cm_2_history')]\n",
    "\n",
    "learn.freeze_to(-2)\n",
    "learn.fit_one_cycle(5, slice(min_grad_lr/4., min_grad_lr/2.), wd=0.25, callbacks=callbacks)"
   ]
  },
  {
   "cell_type": "markdown",
   "metadata": {},
   "source": [
    "Unfreeze all layers and train a bit more. \n",
    "\n",
    "Again, note the use of a smaller learning rate as we dont want to destroy the weights in the pretrained model."
   ]
  },
  {
   "cell_type": "code",
   "execution_count": null,
   "metadata": {
    "scrolled": false
   },
   "outputs": [
    {
     "data": {
      "text/html": [
       "<table border=\"1\" class=\"dataframe\">\n",
       "  <thead>\n",
       "    <tr style=\"text-align: left;\">\n",
       "      <th>epoch</th>\n",
       "      <th>train_loss</th>\n",
       "      <th>valid_loss</th>\n",
       "      <th>accuracy</th>\n",
       "      <th>time</th>\n",
       "    </tr>\n",
       "  </thead>\n",
       "  <tbody>\n",
       "    <tr>\n",
       "      <td>0</td>\n",
       "      <td>0.937934</td>\n",
       "      <td>0.824009</td>\n",
       "      <td>0.809459</td>\n",
       "      <td>21:26</td>\n",
       "    </tr>\n",
       "    <tr>\n",
       "      <td>1</td>\n",
       "      <td>1.022691</td>\n",
       "      <td>0.953447</td>\n",
       "      <td>0.784550</td>\n",
       "      <td>21:27</td>\n",
       "    </tr>\n",
       "    <tr>\n",
       "      <td>2</td>\n",
       "      <td>0.992598</td>\n",
       "      <td>0.887412</td>\n",
       "      <td>0.796246</td>\n",
       "      <td>21:27</td>\n",
       "    </tr>\n",
       "    <tr>\n",
       "      <td>3</td>\n",
       "      <td>0.836387</td>\n",
       "      <td>0.748358</td>\n",
       "      <td>0.826246</td>\n",
       "      <td>21:35</td>\n",
       "    </tr>\n",
       "    <tr>\n",
       "      <td>4</td>\n",
       "      <td>0.676942</td>\n",
       "      <td>0.597119</td>\n",
       "      <td>0.857679</td>\n",
       "      <td>21:13</td>\n",
       "    </tr>\n",
       "    <tr>\n",
       "      <td>5</td>\n",
       "      <td>0.535882</td>\n",
       "      <td>0.459578</td>\n",
       "      <td>0.887193</td>\n",
       "      <td>21:30</td>\n",
       "    </tr>\n",
       "  </tbody>\n",
       "</table>"
      ],
      "text/plain": [
       "<IPython.core.display.HTML object>"
      ]
     },
     "metadata": {},
     "output_type": "display_data"
    },
    {
     "name": "stdout",
     "output_type": "stream",
     "text": [
      "Better model found at epoch 0 with valid_loss value: 0.8240089416503906.\n",
      "Better model found at epoch 3 with valid_loss value: 0.7483584880828857.\n",
      "Better model found at epoch 4 with valid_loss value: 0.597118616104126.\n",
      "Better model found at epoch 5 with valid_loss value: 0.4595775604248047.\n"
     ]
    }
   ],
   "source": [
    "callbacks=[SaveModelCallback(learn, every='improvement', name='best_cm_3'),\n",
    "           CSVLogger(learn=learn, filename='best_cm_3_history')]\n",
    "\n",
    "learn.unfreeze()\n",
    "learn.fit_one_cycle(6, slice(min_grad_lr/20., min_grad_lr/2.), wd=0.25, callbacks=callbacks)"
   ]
  },
  {
   "cell_type": "markdown",
   "metadata": {},
   "source": [
    "Ended up with 88.71% accuracy in the validation set. This is pretty good for text that it has never seen before."
   ]
  },
  {
   "cell_type": "code",
   "execution_count": 15,
   "metadata": {},
   "outputs": [
    {
     "data": {
      "text/plain": [
       "RNNLearner(data=TextClasDataBunch;\n",
       "\n",
       "Train: LabelList (6012444 items)\n",
       "x: TextList\n",
       "xxbos xxup trinket xxup box xxup grey xxup cement xxup with xxup gold xxup lid,xxbos xxup barnes xxup apple xxup cider xxup xxunk,xxbos xxup lynx xxup deod xxup marine 100 g,xxbos xxup eng xxup tea xxup shop xxup pack xxup your xxup wellnes,xxbos xxup hped xxup indiana xxup rosso 6\n",
       "y: CategoryList\n",
       "45-GIFTWARE>4501-GIFTWARE,4-FUNCTIONAL FOODS>403-HEALTH FOODS,17-MENS>1707-DEODORANTS,4-FUNCTIONAL FOODS>406-TEA,14-FOOTWEAR>1401-FOOTWEAR\n",
       "Path: .;\n",
       "\n",
       "Valid: LabelList (154166 items)\n",
       "x: TextList\n",
       "xxbos xxup ch xxup le xxup vernis 713 xxup pure xxup blk 1 xxup sh,xxbos xxup ws xxup adelaide xxup earrings xxup slvr,xxbos n / w xxup vita - xxup gummies xxup vit xxup d3 60s,xxbos xxup s26 xxup gold xxup delicateeze,xxbos xxup homy xxup ped xxup echo xxup cranberry 9.5\n",
       "y: CategoryList\n",
       "3-COSMETICS/COLOUR>301-PRESTIGE COSMETICS,45-GIFTWARE>4501-GIFTWARE,7-NATURAL MEDICINE>703-MUSCULAR SUPPORT,2-BABY>201-INFANT FORMULA,14-FOOTWEAR>1401-FOOTWEAR\n",
       "Path: .;\n",
       "\n",
       "Test: LabelList (158119 items)\n",
       "x: TextList\n",
       "xxbos xxmaj lrl endless kissable l / s 315 ruby ruby,xxbos s / g xxup rosso / xxup smoke 29.95,xxbos xxup homy xxup ped xxup w16 xxup melinda xxup black xxup tan 7,xxbos xxup ws xxup abstract xxup lg xxup xxunk xxup pink,xxbos xxup ws xxup lge xxup elastics xxup pk5\n",
       "y: EmptyLabelList\n",
       ",,,,\n",
       "Path: ., model=SequentialRNN(\n",
       "  (0): MultiBatchEncoder(\n",
       "    (module): AWD_LSTM(\n",
       "      (encoder): Embedding(60000, 400, padding_idx=1)\n",
       "      (encoder_dp): EmbeddingDropout(\n",
       "        (emb): Embedding(60000, 400, padding_idx=1)\n",
       "      )\n",
       "      (rnns): ModuleList(\n",
       "        (0): WeightDropout(\n",
       "          (module): LSTM(400, 1152, batch_first=True)\n",
       "        )\n",
       "        (1): WeightDropout(\n",
       "          (module): LSTM(1152, 1152, batch_first=True)\n",
       "        )\n",
       "        (2): WeightDropout(\n",
       "          (module): LSTM(1152, 400, batch_first=True)\n",
       "        )\n",
       "      )\n",
       "      (input_dp): RNNDropout()\n",
       "      (hidden_dps): ModuleList(\n",
       "        (0): RNNDropout()\n",
       "        (1): RNNDropout()\n",
       "        (2): RNNDropout()\n",
       "      )\n",
       "    )\n",
       "  )\n",
       "  (1): PoolingLinearClassifier(\n",
       "    (layers): Sequential(\n",
       "      (0): BatchNorm1d(1200, eps=1e-05, momentum=0.1, affine=True, track_running_stats=True)\n",
       "      (1): Dropout(p=0.2, inplace=False)\n",
       "      (2): Linear(in_features=1200, out_features=50, bias=True)\n",
       "      (3): ReLU(inplace=True)\n",
       "      (4): BatchNorm1d(50, eps=1e-05, momentum=0.1, affine=True, track_running_stats=True)\n",
       "      (5): Dropout(p=0.1, inplace=False)\n",
       "      (6): Linear(in_features=50, out_features=235, bias=True)\n",
       "    )\n",
       "  )\n",
       "), opt_func=functools.partial(<class 'torch.optim.adam.Adam'>, betas=(0.9, 0.99)), loss_func=FlattenedLoss of CrossEntropyLoss(), metrics=[<function accuracy at 0x7fa21a847620>], true_wd=True, bn_wd=True, wd=0.01, train_bn=True, path=PosixPath('.'), model_dir='models', callback_fns=[functools.partial(<class 'fastai.basic_train.Recorder'>, add_time=True, silent=False)], callbacks=[RNNTrainer\n",
       "learn: RNNLearner(data=TextClasDataBunch;\n",
       "\n",
       "Train: LabelList (6012444 items)\n",
       "x: TextList\n",
       "xxbos xxup trinket xxup box xxup grey xxup cement xxup with xxup gold xxup lid,xxbos xxup barnes xxup apple xxup cider xxup xxunk,xxbos xxup lynx xxup deod xxup marine 100 g,xxbos xxup eng xxup tea xxup shop xxup pack xxup your xxup wellnes,xxbos xxup hped xxup indiana xxup rosso 6\n",
       "y: CategoryList\n",
       "45-GIFTWARE>4501-GIFTWARE,4-FUNCTIONAL FOODS>403-HEALTH FOODS,17-MENS>1707-DEODORANTS,4-FUNCTIONAL FOODS>406-TEA,14-FOOTWEAR>1401-FOOTWEAR\n",
       "Path: .;\n",
       "\n",
       "Valid: LabelList (154166 items)\n",
       "x: TextList\n",
       "xxbos xxup ch xxup le xxup vernis 713 xxup pure xxup blk 1 xxup sh,xxbos xxup ws xxup adelaide xxup earrings xxup slvr,xxbos n / w xxup vita - xxup gummies xxup vit xxup d3 60s,xxbos xxup s26 xxup gold xxup delicateeze,xxbos xxup homy xxup ped xxup echo xxup cranberry 9.5\n",
       "y: CategoryList\n",
       "3-COSMETICS/COLOUR>301-PRESTIGE COSMETICS,45-GIFTWARE>4501-GIFTWARE,7-NATURAL MEDICINE>703-MUSCULAR SUPPORT,2-BABY>201-INFANT FORMULA,14-FOOTWEAR>1401-FOOTWEAR\n",
       "Path: .;\n",
       "\n",
       "Test: LabelList (158119 items)\n",
       "x: TextList\n",
       "xxbos xxmaj lrl endless kissable l / s 315 ruby ruby,xxbos s / g xxup rosso / xxup smoke 29.95,xxbos xxup homy xxup ped xxup w16 xxup melinda xxup black xxup tan 7,xxbos xxup ws xxup abstract xxup lg xxup xxunk xxup pink,xxbos xxup ws xxup lge xxup elastics xxup pk5\n",
       "y: EmptyLabelList\n",
       ",,,,\n",
       "Path: ., model=SequentialRNN(\n",
       "  (0): MultiBatchEncoder(\n",
       "    (module): AWD_LSTM(\n",
       "      (encoder): Embedding(60000, 400, padding_idx=1)\n",
       "      (encoder_dp): EmbeddingDropout(\n",
       "        (emb): Embedding(60000, 400, padding_idx=1)\n",
       "      )\n",
       "      (rnns): ModuleList(\n",
       "        (0): WeightDropout(\n",
       "          (module): LSTM(400, 1152, batch_first=True)\n",
       "        )\n",
       "        (1): WeightDropout(\n",
       "          (module): LSTM(1152, 1152, batch_first=True)\n",
       "        )\n",
       "        (2): WeightDropout(\n",
       "          (module): LSTM(1152, 400, batch_first=True)\n",
       "        )\n",
       "      )\n",
       "      (input_dp): RNNDropout()\n",
       "      (hidden_dps): ModuleList(\n",
       "        (0): RNNDropout()\n",
       "        (1): RNNDropout()\n",
       "        (2): RNNDropout()\n",
       "      )\n",
       "    )\n",
       "  )\n",
       "  (1): PoolingLinearClassifier(\n",
       "    (layers): Sequential(\n",
       "      (0): BatchNorm1d(1200, eps=1e-05, momentum=0.1, affine=True, track_running_stats=True)\n",
       "      (1): Dropout(p=0.2, inplace=False)\n",
       "      (2): Linear(in_features=1200, out_features=50, bias=True)\n",
       "      (3): ReLU(inplace=True)\n",
       "      (4): BatchNorm1d(50, eps=1e-05, momentum=0.1, affine=True, track_running_stats=True)\n",
       "      (5): Dropout(p=0.1, inplace=False)\n",
       "      (6): Linear(in_features=50, out_features=235, bias=True)\n",
       "    )\n",
       "  )\n",
       "), opt_func=functools.partial(<class 'torch.optim.adam.Adam'>, betas=(0.9, 0.99)), loss_func=FlattenedLoss of CrossEntropyLoss(), metrics=[<function accuracy at 0x7fa21a847620>], true_wd=True, bn_wd=True, wd=0.01, train_bn=True, path=PosixPath('.'), model_dir='models', callback_fns=[functools.partial(<class 'fastai.basic_train.Recorder'>, add_time=True, silent=False)], callbacks=[...], layer_groups=[Sequential(\n",
       "  (0): Embedding(60000, 400, padding_idx=1)\n",
       "  (1): EmbeddingDropout(\n",
       "    (emb): Embedding(60000, 400, padding_idx=1)\n",
       "  )\n",
       "), Sequential(\n",
       "  (0): WeightDropout(\n",
       "    (module): LSTM(400, 1152, batch_first=True)\n",
       "  )\n",
       "  (1): RNNDropout()\n",
       "), Sequential(\n",
       "  (0): WeightDropout(\n",
       "    (module): LSTM(1152, 1152, batch_first=True)\n",
       "  )\n",
       "  (1): RNNDropout()\n",
       "), Sequential(\n",
       "  (0): WeightDropout(\n",
       "    (module): LSTM(1152, 400, batch_first=True)\n",
       "  )\n",
       "  (1): RNNDropout()\n",
       "), Sequential(\n",
       "  (0): PoolingLinearClassifier(\n",
       "    (layers): Sequential(\n",
       "      (0): BatchNorm1d(1200, eps=1e-05, momentum=0.1, affine=True, track_running_stats=True)\n",
       "      (1): Dropout(p=0.2, inplace=False)\n",
       "      (2): Linear(in_features=1200, out_features=50, bias=True)\n",
       "      (3): ReLU(inplace=True)\n",
       "      (4): BatchNorm1d(50, eps=1e-05, momentum=0.1, affine=True, track_running_stats=True)\n",
       "      (5): Dropout(p=0.1, inplace=False)\n",
       "      (6): Linear(in_features=50, out_features=235, bias=True)\n",
       "    )\n",
       "  )\n",
       ")], add_time=True, silent=False)\n",
       "alpha: 2.0\n",
       "beta: 1.0], layer_groups=[Sequential(\n",
       "  (0): Embedding(60000, 400, padding_idx=1)\n",
       "  (1): EmbeddingDropout(\n",
       "    (emb): Embedding(60000, 400, padding_idx=1)\n",
       "  )\n",
       "), Sequential(\n",
       "  (0): WeightDropout(\n",
       "    (module): LSTM(400, 1152, batch_first=True)\n",
       "  )\n",
       "  (1): RNNDropout()\n",
       "), Sequential(\n",
       "  (0): WeightDropout(\n",
       "    (module): LSTM(1152, 1152, batch_first=True)\n",
       "  )\n",
       "  (1): RNNDropout()\n",
       "), Sequential(\n",
       "  (0): WeightDropout(\n",
       "    (module): LSTM(1152, 400, batch_first=True)\n",
       "  )\n",
       "  (1): RNNDropout()\n",
       "), Sequential(\n",
       "  (0): PoolingLinearClassifier(\n",
       "    (layers): Sequential(\n",
       "      (0): BatchNorm1d(1200, eps=1e-05, momentum=0.1, affine=True, track_running_stats=True)\n",
       "      (1): Dropout(p=0.2, inplace=False)\n",
       "      (2): Linear(in_features=1200, out_features=50, bias=True)\n",
       "      (3): ReLU(inplace=True)\n",
       "      (4): BatchNorm1d(50, eps=1e-05, momentum=0.1, affine=True, track_running_stats=True)\n",
       "      (5): Dropout(p=0.1, inplace=False)\n",
       "      (6): Linear(in_features=50, out_features=235, bias=True)\n",
       "    )\n",
       "  )\n",
       ")], add_time=True, silent=False)"
      ]
     },
     "execution_count": 15,
     "metadata": {},
     "output_type": "execute_result"
    }
   ],
   "source": [
    "learn.to_fp32()"
   ]
  },
  {
   "cell_type": "markdown",
   "metadata": {},
   "source": [
    "## Test model"
   ]
  },
  {
   "cell_type": "markdown",
   "metadata": {},
   "source": [
    "Small helper function that wraps the learn.predict() to allow getting the top n predictions."
   ]
  },
  {
   "cell_type": "code",
   "execution_count": 12,
   "metadata": {},
   "outputs": [],
   "source": [
    "def get_n_pred(learn, text, n=None):\n",
    "    classes = learn.data.classes\n",
    "    pred_cat, _, probs = learn.predict(text)\n",
    "    confidences = {c: p for c, p in zip(classes, probs.tolist())}\n",
    "    if n:\n",
    "        return {k: v for k, v in sorted(confidences.items(), key=lambda item: item[1], reverse=True)[:n]}       "
   ]
  },
  {
   "cell_type": "markdown",
   "metadata": {},
   "source": [
    "Give it some text and see where it classifies it."
   ]
  },
  {
   "cell_type": "code",
   "execution_count": 17,
   "metadata": {
    "scrolled": true
   },
   "outputs": [
    {
     "data": {
      "text/plain": [
       "{'6-DEODORANTS>601-WOMEN': 0.9244009852409363,\n",
       " '45-GIFTWARE>4501-GIFTWARE': 0.027526648715138435,\n",
       " '31-FRAGRANCES>3102-WOMEN': 0.012997721321880817,\n",
       " '17-MENS>1707-DEODORANTS': 0.007795216049998999,\n",
       " '6-DEODORANTS>603-THERAPEUTIC': 0.006786595564335585}"
      ]
     },
     "execution_count": 17,
     "metadata": {},
     "output_type": "execute_result"
    }
   ],
   "source": [
    "text = 'Hello Kitty Bubblegum Body Mist Spray 75g'\n",
    "\n",
    "get_n_pred(learn, text, 5)"
   ]
  },
  {
   "cell_type": "markdown",
   "metadata": {},
   "source": [
    "## Export model file for use in app"
   ]
  },
  {
   "cell_type": "code",
   "execution_count": 16,
   "metadata": {},
   "outputs": [],
   "source": [
    "learn.export(path+'export.pkl')"
   ]
  },
  {
   "cell_type": "markdown",
   "metadata": {},
   "source": [
    "You can load the learner model into a new application by calling the load_learner() function from the FastAI Library. You can then just call the normal learn.predict() to get a single prediction.\n",
    "\n",
    "To go bulk/batch predictions, iterating over the single prediction method will be too slow. YOu will need to add the bulk prediction as a test set then call learn.get_preds(). Refer to FastAI docs on how to do this."
   ]
  },
  {
   "cell_type": "code",
   "execution_count": null,
   "metadata": {},
   "outputs": [],
   "source": [
    "learn = load_learner(path=path, file='export.pkl')\n",
    "learn.predict(text)"
   ]
  },
  {
   "cell_type": "markdown",
   "metadata": {},
   "source": [
    "## Reload previously trained model and data"
   ]
  },
  {
   "cell_type": "code",
   "execution_count": null,
   "metadata": {},
   "outputs": [],
   "source": [
    "path = './'\n",
    "\n",
    "data_clas = load_data(path, 'data_clas_export.pkl', bs=128)\n",
    "\n",
    "learn = text_classifier_learner(data=data_clas ,arch=AWD_LSTM, drop_mult=0.5)\n",
    "learn.load('best_cm_3')"
   ]
  }
 ],
 "metadata": {
  "kernelspec": {
   "display_name": "Python 3",
   "language": "python",
   "name": "python3"
  },
  "language_info": {
   "codemirror_mode": {
    "name": "ipython",
    "version": 3
   },
   "file_extension": ".py",
   "mimetype": "text/x-python",
   "name": "python",
   "nbconvert_exporter": "python",
   "pygments_lexer": "ipython3",
   "version": "3.7.7"
  }
 },
 "nbformat": 4,
 "nbformat_minor": 2
}
